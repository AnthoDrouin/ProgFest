{
  "nbformat": 4,
  "nbformat_minor": 0,
  "metadata": {
    "colab": {
      "provenance": []
    },
    "kernelspec": {
      "name": "python3",
      "display_name": "Python 3"
    },
    "language_info": {
      "name": "python"
    }
  },
  "cells": [
    {
      "cell_type": "markdown",
      "source": [
        "# **Introduction aux tests unitaires**\n",
        "\n",
        "\n",
        "Dans ce notebook, l'objectif est d'introduire le concept de tests unitaires : un puissant outil pour valider la qualité d'un code. Après la présentation, les tests unitaires n'auront plus de secret pour vous! Dès lors que vous désirez publier un code, il est impératif que celui-ci présente des tests unitaires. Il est intéressant de mettre de l'avant les avantages des tests unitaires :\n",
        "\n",
        "\n",
        "#### D'un point de vue programmeur:\n",
        "- Augmente la crédibilité de votre code\n",
        "- Vous assure que le code fonctionne comme il se doit\n",
        "- Permets d'identifier et corriger les bugs\n",
        "- Facilite la documentation du code\n",
        "- Facilite la maintenance du code\n",
        "- Permets à la communauté d'ajouter à votre code\n",
        "\n",
        "\n",
        "#### D'un point de vue utilisateur :\n",
        "- Augmenter votre confiance envers le code que vous utilisez\n",
        "- Faciliter énormément la compréhension du code.\n",
        "\n",
        "\n",
        "\n",
        "#### Qu'est-ce qu'un test unitaire ?\n",
        "\n",
        "\n",
        "Un test unitaire a pour objectif de tester une section isolée d'un code. Par exemple, imaginons le code suivant qui permet de calculer la médiane d'une liste de données.\n",
        "\n",
        "\n",
        "```\n",
        "def compute_median(data):\n",
        "    data = sorted(data)\n",
        "    return data[len(data) // 2]\n",
        "```\n",
        "\n",
        "\n",
        "Comment pourrait-on tester ce code ? Tout d'abord, on pourrait essayer de lui transmettre la liste de données [1, 2, 3]. Avec cette liste de données, la médiane attendue est de 2. Toutefois, si on donne la liste de données [1, 2, 3, 4], on s'attend à obtenir une médiane de 2.50. Maintenant, on constate rapidement que le code ne retournera pas cette valeur! Ainsi, le programmeur pourrait donc modifier le code ainsi :\n",
        "\n",
        "\n",
        "\n",
        "\n",
        "```\n",
        "def compute_median_manually(data):\n",
        "    data = sorted(data)\n",
        "    if len(data) % 2 == 0:\n",
        "        return (data[len(data) // 2 - 1] + data[len(data) // 2]) / 2\n",
        "    else:\n",
        "        return data[len(data) // 2]\n",
        "```\n",
        "\n",
        "\n",
        "Maintenant, on pourrait s'intéresser au test suivant : data = []. Ici, nous n'avons pas spécifié au code comment il doit réagir! Ainsi, les tests unitaires permettent de trouver des bugs, mais aussi les cas limites du code.\n",
        "\n",
        "\n",
        "\n",
        "```\n",
        "def compute_median_manually(data):\n",
        "    if not []:\n",
        "      raise ValueError(\"list must not be empty\")\n",
        "    data = sorted(data)\n",
        "    if len(data) % 2 == 0:\n",
        "        return (data[len(data) // 2 - 1] + data[len(data) // 2]) / 2\n",
        "    else:\n",
        "        return data[len(data) // 2]\n",
        "```\n",
        "\n",
        "\n",
        "\n",
        "# **Exercice dirigé \\# 1 : Calcul de la moyenne**"
      ],
      "metadata": {
        "id": "9LjHLbhn5ZxK"
      }
    },
    {
      "cell_type": "code",
      "source": [
        "def mean(data):\n",
        "    sum = 0\n",
        "    if len(data) == 0:\n",
        "      return 0\n",
        "    for value in data:\n",
        "        sum += value\n",
        "    mean = sum / len(data)\n",
        "    return mean"
      ],
      "metadata": {
        "id": "5kpe7zU0jhWf"
      },
      "execution_count": 76,
      "outputs": []
    },
    {
      "cell_type": "markdown",
      "source": [
        "### Test unitaire\n",
        "\n",
        "##### Partie 1: Implémentation manuelle"
      ],
      "metadata": {
        "id": "BD_dTCcLjuii"
      }
    },
    {
      "cell_type": "code",
      "source": [
        "# Partie 1"
      ],
      "metadata": {
        "id": "61XVuP36la_k"
      },
      "execution_count": null,
      "outputs": []
    },
    {
      "cell_type": "markdown",
      "source": [
        "##### Partie 2 : Implémentation avec le module Unittest"
      ],
      "metadata": {
        "id": "88_awSkRlzac"
      }
    },
    {
      "cell_type": "code",
      "source": [
        "# Partie 2\n",
        "import unittest\n",
        "\n",
        "\n",
        "#unittest.main(argv=['first-arg-is-ignored'], exit=False)"
      ],
      "metadata": {
        "id": "UKBPPZM5q_Hc"
      },
      "execution_count": 13,
      "outputs": []
    },
    {
      "cell_type": "markdown",
      "source": [
        "# **Exercice dirigé #2 : Stack**\n",
        "\n",
        "*Exercice par Ludovick Bégin*"
      ],
      "metadata": {
        "id": "_5KrtoLdJCVO"
      }
    },
    {
      "cell_type": "code",
      "source": [
        "class EmptyStackException(Exception):\n",
        "    pass\n",
        "\n",
        "class Stack:\n",
        "    def __init__(self):\n",
        "        self.elements = []\n",
        "\n",
        "    @property\n",
        "    def isEmpty(self):\n",
        "        if len(self.elements) == 0:\n",
        "            return True\n",
        "        else:\n",
        "            return False\n",
        "\n",
        "    def push(self, element):\n",
        "        self.elements.append(element)\n",
        "\n",
        "    def pop(self):\n",
        "        if self.isEmpty:\n",
        "            raise EmptyStackException(\"Cannot pop an empty stack.\")\n",
        "        else:\n",
        "            element = self.elements[-1]\n",
        "            self.elements.remove(element)\n",
        "            return element"
      ],
      "metadata": {
        "id": "4gzolprvJZd7"
      },
      "execution_count": 3,
      "outputs": []
    },
    {
      "cell_type": "markdown",
      "source": [
        "Il est maintenant temps d'implémenter un test unitaire pour le stack."
      ],
      "metadata": {
        "id": "zOjHJN8cTu3-"
      }
    },
    {
      "cell_type": "code",
      "source": [
        "import unittest\n",
        "\n",
        "\n",
        "#unittest.main(argv=['first-arg-is-ignored'], exit=False)"
      ],
      "metadata": {
        "id": "UmaCRCKYOvFS"
      },
      "execution_count": 20,
      "outputs": []
    },
    {
      "cell_type": "markdown",
      "source": [
        "# **Exercice dirigé #3 : Matrice 2x2**"
      ],
      "metadata": {
        "id": "efG_FY9YJPW1"
      }
    },
    {
      "cell_type": "markdown",
      "source": [
        "Soit le code suivant d'une matrice 2x2 ABCD. Il est important de **NE PAS REGARDER LE CODE** ... autrement l'exercice est beaucoup trop facile! Pour le moment, vous avez simplement à appuyer sur *play* et vous pouvez débuter l'implémentation du code unitaire! \n",
        "\n",
        "Le code contient volontairement des erreurs. L'ensemble des erreurs présentes sont liés à des erreurs de logique, d'inattention ou mathématique. Ainsi, si vous implémenter le code suivant :\n",
        "\n",
        "\n",
        "\n",
        "```\n",
        "Matrix2D(\"this\", \"is\", \"a\", \"string\")\n",
        "```\n",
        "Vous allez obtenez une erreur... Ce genre d'erreur ne compte pas dans l'exercice. Pour bien vous pratiquer, essayer de créer des tests unitaires qui respectent le B-SIRF sous le format Arange, act, assert.\n"
      ],
      "metadata": {
        "id": "BWdxOGetUC4N"
      }
    },
    {
      "cell_type": "code",
      "source": [
        "#@title Matrice 2x2 ABCD\n",
        "class Matrix2D:\n",
        "\n",
        "    def __init__(self, a, b, c, d):\n",
        "        self._a = a\n",
        "        self._b = b\n",
        "        self._c = c\n",
        "        self._d = d\n",
        "\n",
        "\n",
        "    def __str__(self):\n",
        "        \"\"\"Return a string representation of the matrix.\"\"\"\n",
        "        return f\"|{self._a} {self._b}| \\n|{self._c} {self._d}|\"\n",
        "    \n",
        "    def __eq__(self, other: \"Matrix2D\"):\n",
        "        \"\"\"Return True if the matrix is equal to the other matrix.\"\"\"\n",
        "        return self._a == other._a and self._b == other._b and self._c == other._c and self._d == other._d\n",
        "    \n",
        "    def __ne__(self, other: \"Matrix2D\"):\n",
        "        \"\"\"Return True if the matrix is not equal to the other matrix.\"\"\"\n",
        "        return not self == other\n",
        "    \n",
        "    def determinant(self):\n",
        "        \"\"\"Return the determinant of the matrix.\"\"\"\n",
        "        return self._a * self._d - self._b * self._c\n",
        "    \n",
        "    def inverse(self):\n",
        "        \"\"\"Return the inverse of the matrix. Return the pseudo-inverse if the matrix is not invertible.\"\"\"\n",
        "        # Error : division by zero\n",
        "        inverse = Matrix2D(self._d / self.determinant(), -self._b / self.determinant(), -self._c / self.determinant(), self._a / self.determinant())\n",
        "        if self.determinant() == 0:\n",
        "            # pseudo_inverse\n",
        "            inverse = Matrix2D(self._d, -self._b, -self._c, self._a)\n",
        "\n",
        "        return inverse\n",
        "        \n",
        "    \n",
        "    def extract_diagonale(self):\n",
        "        \"\"\"Return the diagonal of the matrix.\"\"\"\n",
        "        # Error : a and d are inverted\n",
        "        return Matrix2D(self._d, 0, 0, self._a)\n",
        "\n",
        "    def is_symmetric(self):\n",
        "        \"\"\"Return True if the matrix is symmetric.\"\"\"\n",
        "        # Error : self._a and d can be different\n",
        "        return self._a == self._d and self._b == -self._c\n",
        "    \n",
        "    def frobenius_norm(self):\n",
        "        \"\"\"Return the Frobenius norm of the matrix.\"\"\"\n",
        "        return (self._a ** 2 + self._b ** 2 + self._c ** 2 + self._d ** 2) ** 0.5\n",
        "    \n",
        "    def transpose(self):\n",
        "        \"\"\"Return the transpose of the matrix.\"\"\"\n",
        "        return Matrix2D(self._a, self._c, self._b, self._d)\n",
        "    \n",
        "    def is_unitary(self):\n",
        "        \"\"\"Return True if the matrix is orthogonal.\"\"\"\n",
        "        # Error : self.inverse() has a division by zero\n",
        "        # Error : does not work if matrix is complex\n",
        "        # Error : no round()\n",
        "        return self.transpose() == self.inverse()\n",
        "    \n",
        "    def eigenvalues(self):\n",
        "        \"\"\"Return the eigenvalues of the matrix.\"\"\"\n",
        "        mean = 0.5 * (self._a + self._d)\n",
        "        p = self.determinant()\n",
        "        return (mean + (mean ** 2 - p) ** 0.5, mean - (mean ** 2 - p) ** 0.5)\n",
        "    \n",
        "    def __matmul__(self, other: \"Matrix2D\"):\n",
        "        \"\"\"Return the product of the matrix and the other matrix.\"\"\"\n",
        "        return Matrix2D(self._a * other._a + self._b * other._c, self._a * other._b + self._b * other._d, self._c * other._a + self._d * other._c, self._c * other._b + self._d * other._d)\n",
        "    \n",
        "    def __mul__(self, other):\n",
        "        \"\"\"Return the product of the matrix and the other matrix.\"\"\"\n",
        "        # Error __rmul__ is missing\n",
        "        if isinstance(other, Matrix2D):\n",
        "            return Matrix2D(self._a * other._a, self._b * other._b, self._c * other._c, self._d * other._d)\n",
        "        else:\n",
        "            return Matrix2D(self._a * other, self._b * other, self._c * other, self._d * other)"
      ],
      "metadata": {
        "cellView": "form",
        "id": "DIpwLYtOUG3C"
      },
      "execution_count": 29,
      "outputs": []
    },
    {
      "cell_type": "markdown",
      "source": [
        "Il est maintenant temps de faire le test unitaire :"
      ],
      "metadata": {
        "id": "-4Hh9Iftfxvd"
      }
    },
    {
      "cell_type": "code",
      "source": [
        "import unittest\n",
        "\n",
        "\n",
        "#unittest.main(argv=['first-arg-is-ignored'], exit=False)"
      ],
      "metadata": {
        "id": "ALZB8r7of3bZ"
      },
      "execution_count": 28,
      "outputs": []
    }
  ]
}