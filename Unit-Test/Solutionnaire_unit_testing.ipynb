{
  "nbformat": 4,
  "nbformat_minor": 0,
  "metadata": {
    "colab": {
      "provenance": []
    },
    "kernelspec": {
      "name": "python3",
      "display_name": "Python 3"
    },
    "language_info": {
      "name": "python"
    }
  },
  "cells": [
    {
      "cell_type": "markdown",
      "source": [
        "# **Unit testing**\n",
        "\n",
        "### Exercice dirigé 1 : Moyenne"
      ],
      "metadata": {
        "id": "R5i04z_xk8D4"
      }
    },
    {
      "cell_type": "code",
      "source": [
        "def mean(data):\n",
        "    \"\"\"return 0 added after doing first test\"\"\"\n",
        "    sum = 0\n",
        "    if not len(data):\n",
        "      return 0\n",
        "    for value in data:\n",
        "        sum += value\n",
        "    mean = sum / len(data)\n",
        "    return mean"
      ],
      "metadata": {
        "id": "k1LMkbGIlLXE"
      },
      "execution_count": null,
      "outputs": []
    },
    {
      "cell_type": "markdown",
      "source": [
        "#### Partie 1"
      ],
      "metadata": {
        "id": "WAvyYCJ7r7vj"
      }
    },
    {
      "cell_type": "code",
      "source": [
        "def testMean():\n",
        "  data = [-1, 0, 2, 3, 4]\n",
        "  my_mean = mean(data)\n",
        "  expected_value = 1.6\n",
        "  assert my_mean == expected_value, f\"Test fail : expected value is 1.8 but mean return {my_mean}\"\n",
        "  return print(\"test passed\")\n",
        "\n",
        "def testMeanNoData():\n",
        "  data = []\n",
        "  my_mean = mean(data)\n",
        "  assert my_mean == 0\n",
        "  return print(\"test passed\")\n",
        "\n",
        "testMean()\n",
        "testMeanNoData()"
      ],
      "metadata": {
        "colab": {
          "base_uri": "https://localhost:8080/"
        },
        "id": "IxQcE_kglF6O",
        "outputId": "bd7be6e9-74e9-48b0-bb57-127b08deac99"
      },
      "execution_count": null,
      "outputs": [
        {
          "output_type": "stream",
          "name": "stdout",
          "text": [
            "test passed\n",
            "test passed\n"
          ]
        }
      ]
    },
    {
      "cell_type": "markdown",
      "source": [
        "#### Partie 2"
      ],
      "metadata": {
        "id": "F6gEozEmr91H"
      }
    },
    {
      "cell_type": "code",
      "source": [
        "import unittest\n",
        "\n",
        "class TestMean(unittest.TestCase):\n",
        "\n",
        "  def testMean(self):\n",
        "    data = [-1, 0, 2, 3, 4]\n",
        "    \n",
        "    my_mean = mean(data)\n",
        "    expected_value = 1.6\n",
        "    self.assertEqual(my_mean, expected_value)\n",
        "\n",
        "  def testMeanNoData(self):\n",
        "    data = []\n",
        "\n",
        "    my_mean = mean(data)\n",
        "    expected_value = 0\n",
        "    self.assertEqual(my_mean, expected_value)\n",
        "\n",
        "unittest.main(argv=['first-arg-is-ignored'], exit=False)"
      ],
      "metadata": {
        "colab": {
          "base_uri": "https://localhost:8080/"
        },
        "id": "VC3kzjT9XoNU",
        "outputId": "0b1c3237-d34a-418a-a24d-34352ceef7e0"
      },
      "execution_count": null,
      "outputs": [
        {
          "output_type": "stream",
          "name": "stderr",
          "text": [
            "..\n",
            "----------------------------------------------------------------------\n",
            "Ran 2 tests in 0.007s\n",
            "\n",
            "OK\n"
          ]
        },
        {
          "output_type": "execute_result",
          "data": {
            "text/plain": [
              "<unittest.main.TestProgram at 0x7f3a93bdffa0>"
            ]
          },
          "metadata": {},
          "execution_count": 5
        }
      ]
    },
    {
      "cell_type": "markdown",
      "source": [
        "### Exercice 2 : Stack"
      ],
      "metadata": {
        "id": "I5MUxJAgZOJx"
      }
    },
    {
      "cell_type": "code",
      "source": [
        "class EmptyStackException(Exception):\n",
        "    pass\n",
        "\n",
        "class Stack:\n",
        "    def __init__(self):\n",
        "        self.elements = []\n",
        "\n",
        "    @property\n",
        "    def isEmpty(self):\n",
        "        if len(self.elements) == 0:\n",
        "            return True\n",
        "        else:\n",
        "            return False\n",
        "\n",
        "    def push(self, element):\n",
        "        self.elements.append(element)\n",
        "\n",
        "    def pop(self):\n",
        "        if self.isEmpty:\n",
        "            raise EmptyStackException(\"Cannot pop an empty stack.\")\n",
        "        else:\n",
        "            element = self.elements[-1]\n",
        "            self.elements.remove(element)\n",
        "            return element"
      ],
      "metadata": {
        "id": "uKuIAHJ-r_bp"
      },
      "execution_count": null,
      "outputs": []
    },
    {
      "cell_type": "code",
      "source": [
        "import unittest\n",
        "\n",
        "class TestStack(unittest.TestCase):\n",
        "\n",
        "  def setUp(self):\n",
        "    self.stack = Stack()\n",
        "    self.AN_ELEMENT = 1531\n",
        "    self.FIRST_ELEMENT = 23\n",
        "    self.LAST_ELEMENT = 126\n",
        "\n",
        "  def testGivenANewStack_shouldBeEmpty(self):\n",
        "    self.assertTrue(self.stack.isEmpty)\n",
        "\n",
        "  def testGivenANewStack_shouldAddElement(self):\n",
        "    self.stack.push(self.AN_ELEMENT)\n",
        "    self.assertEqual(self.stack.elements[0], self.AN_ELEMENT)\n",
        "    self.assertFalse(self.stack.isEmpty)\n",
        "\n",
        "  def testGivenAnElement_whenPop_shouldRemove(self):\n",
        "    self.stack.push(self.AN_ELEMENT)\n",
        "    self.stack.pop()\n",
        "    self.assertTrue(self.stack.isEmpty)\n",
        "\n",
        "  def testGivenAnElement_whenPop_shouldReturnElement(self):\n",
        "    self.stack.push(self.LAST_ELEMENT)\n",
        "    element_pop = self.stack.pop()\n",
        "    self.assertEqual(element_pop, self.LAST_ELEMENT)\n",
        "\n",
        "  def testGivenMultiplesElement_whenPop_shouldReverseElement(self):\n",
        "    self.stack.push(self.FIRST_ELEMENT)\n",
        "    self.stack.push(self.LAST_ELEMENT)\n",
        "\n",
        "    FirstPop = self.stack.pop()\n",
        "    SecondPop = self.stack.pop()\n",
        "\n",
        "    self.assertEqual(self.LAST_ELEMENT, FirstPop)\n",
        "    self.assertEqual(self.FIRST_ELEMENT, SecondPop)\n",
        "\n",
        "  def testGivenNotElement_whenPop_ShoudlRaiseError(self):\n",
        "    with self.assertRaises(EmptyStackException):\n",
        "      self.stack.pop()\n",
        "\n",
        "\n",
        "unittest.main(argv=['first-arg-is-ignored'], exit=False)"
      ],
      "metadata": {
        "colab": {
          "base_uri": "https://localhost:8080/"
        },
        "id": "L6Yi_XSfTaxu",
        "outputId": "31f5944d-71a2-47f7-8491-ac87116dea33"
      },
      "execution_count": null,
      "outputs": [
        {
          "output_type": "stream",
          "name": "stderr",
          "text": [
            "........\n",
            "----------------------------------------------------------------------\n",
            "Ran 8 tests in 0.016s\n",
            "\n",
            "OK\n"
          ]
        },
        {
          "output_type": "execute_result",
          "data": {
            "text/plain": [
              "<unittest.main.TestProgram at 0x7f3a93bef940>"
            ]
          },
          "metadata": {},
          "execution_count": 7
        }
      ]
    },
    {
      "cell_type": "markdown",
      "source": [
        "### Exercice 3 : Matrice ABCD"
      ],
      "metadata": {
        "id": "G15oSyawXk4v"
      }
    },
    {
      "cell_type": "code",
      "source": [
        "#@title Matrix2D\n",
        "class Matrix2D:\n",
        "\n",
        "    def __init__(self, a, b, c, d):\n",
        "        self._a = a\n",
        "        self._b = b\n",
        "        self._c = c\n",
        "        self._d = d\n",
        "\n",
        "\n",
        "    def __str__(self):\n",
        "        \"\"\"Return a string representation of the matrix.\"\"\"\n",
        "        return f\"|{self._a} {self._b}| \\n|{self._c} {self._d}|\"\n",
        "    \n",
        "    def __eq__(self, other: \"Matrix2D\"):\n",
        "        \"\"\"Return True if the matrix is equal to the other matrix.\"\"\"\n",
        "        return self._a == other._a and self._b == other._b and self._c == other._c and self._d == other._d\n",
        "    \n",
        "    def __ne__(self, other: \"Matrix2D\"):\n",
        "        \"\"\"Return True if the matrix is not equal to the other matrix.\"\"\"\n",
        "        return not self == other\n",
        "    \n",
        "    def determinant(self):\n",
        "        \"\"\"Return the determinant of the matrix.\"\"\"\n",
        "        return self._a * self._d - self._b * self._c\n",
        "    \n",
        "    def inverse(self):\n",
        "        \"\"\"Return the inverse of the matrix. Return the pseudo-inverse if the matrix is not invertible.\"\"\"\n",
        "        # Error : division by zero\n",
        "        inverse = Matrix2D(self._d / self.determinant(), -self._b / self.determinant(), -self._c / self.determinant(), self._a / self.determinant())\n",
        "        if self.determinant() == 0:\n",
        "            # pseudo_inverse\n",
        "            inverse = Matrix2D(self._d, -self._b, -self._c, self._a)\n",
        "\n",
        "        return inverse\n",
        "        \n",
        "    \n",
        "    def extract_diagonale(self):\n",
        "        \"\"\"Return the diagonal of the matrix.\"\"\"\n",
        "        # Error : a and d are inverted\n",
        "        return Matrix2D(self._d, 0, 0, self._a)\n",
        "\n",
        "    def is_symmetric(self):\n",
        "        \"\"\"Return True if the matrix is symmetric.\"\"\"\n",
        "        # Error : self._a and d can be different\n",
        "        return self._a == self._d and self._b == -self._c\n",
        "    \n",
        "    def frobenius_norm(self):\n",
        "        \"\"\"Return the Frobenius norm of the matrix.\"\"\"\n",
        "        return (self._a ** 2 + self._b ** 2 + self._c ** 2 + self._d ** 2) ** 0.5\n",
        "    \n",
        "    def transpose(self):\n",
        "        \"\"\"Return the transpose of the matrix.\"\"\"\n",
        "        return Matrix2D(self._a, self._c, self._b, self._d)\n",
        "    \n",
        "    def is_unitary(self):\n",
        "        \"\"\"Return True if the matrix is orthogonal.\"\"\"\n",
        "        # Error : self.inverse() has a division by zero\n",
        "        # Error : does not work if matrix is complex\n",
        "        # Error : no round()\n",
        "        return self.transpose() == self.inverse()\n",
        "    \n",
        "    def eigenvalues(self):\n",
        "        \"\"\"Return the eigenvalues of the matrix.\"\"\"\n",
        "        mean = 0.5 * (self._a + self._d)\n",
        "        p = self.determinant()\n",
        "        return (mean + (mean ** 2 - p) ** 0.5, mean - (mean ** 2 - p) ** 0.5)\n",
        "    \n",
        "    def __matmul__(self, other: \"Matrix2D\"):\n",
        "        \"\"\"Return the product of the matrix and the other matrix.\"\"\"\n",
        "        return Matrix2D(self._a * other._a + self._b * other._c, self._a * other._b + self._b * other._d, self._c * other._a + self._d * other._c, self._c * other._b + self._d * other._d)\n",
        "    \n",
        "    def __mul__(self, other):\n",
        "        \"\"\"Return the product of the matrix and the other matrix.\"\"\"\n",
        "        # Error __rmul__ is missing\n",
        "        if isinstance(other, Matrix2D):\n",
        "            return Matrix2D(self._a * other._a, self._b * other._b, self._c * other._c, self._d * other._d)\n",
        "        else:\n",
        "            return Matrix2D(self._a * other, self._b * other, self._c * other, self._d * other)"
      ],
      "metadata": {
        "cellView": "form",
        "id": "wjiQnlPxZXSM"
      },
      "execution_count": null,
      "outputs": []
    },
    {
      "cell_type": "code",
      "source": [
        "class TestMatrix2D(unittest.TestCase):\n",
        "\n",
        "    def setUp(self):\n",
        "        self.real_matrix = Matrix2D(1, 2, 3, 4)\n",
        "        self.zero_matrix = Matrix2D(0, 0, 0, 0)\n",
        "        self.symmetric_matrix = Matrix2D(1, 2, 2, 1)\n",
        "        self.unitary_matrix = Matrix2D(1, 0, 0, 1)\n",
        "        self.complex_matrix = Matrix2D(1, 2j, 3j, 4)\n",
        "        self.complex_unitary_matrix = Matrix2D(1, 0, 0, 1j)\n",
        "\n",
        "    def testGivenABCD_shouldInit(self):\n",
        "        self.assertEqual(self.real_matrix._a, 1)\n",
        "        self.assertEqual(self.real_matrix._b, 2)\n",
        "        self.assertEqual(self.real_matrix._c, 3)\n",
        "        self.assertEqual(self.real_matrix._d, 4)\n",
        "\n",
        "    def test_whenStr_shouldDisplayCorrectFormat(self):\n",
        "        self.assertEqual(str(self.real_matrix), \"|1 2| \\n|3 4|\")\n",
        "\n",
        "    def testGivenTwoMatrix_shouldReturnTrueIfEqual(self):\n",
        "        self.assertTrue(self.real_matrix == self.real_matrix)\n",
        "        self.assertFalse(self.real_matrix == self.complex_matrix)\n",
        "        self.assertTrue(self.zero_matrix != self.complex_matrix)\n",
        "        self.assertFalse(self.zero_matrix != self.zero_matrix)\n",
        "\n",
        "    def test_shouldReturnDeterminant(self):\n",
        "        self.assertEqual(self.real_matrix.determinant(), -2)\n",
        "        self.assertEqual(self.zero_matrix.determinant(), 0)\n",
        "        self.assertEqual(self.unitary_matrix.determinant(), 1)\n",
        "        self.assertEqual(self.complex_matrix.determinant(), 10+0j)\n",
        "\n",
        "    def test_shouldReturnInverseOfMatrix(self):\n",
        "        \"\"\"Test the inverse of the matrix.\n",
        "            error : division by zero -> pseudo inverse is not implemented\n",
        "        \"\"\"\n",
        "        self.assertEqual(self.real_matrix.inverse(), Matrix2D(-2.0, 1.0, 1.5, -0.5))\n",
        "        \n",
        "        self.assertEqual(self.zero_matrix.inverse(), Matrix2D(0, 0, 0, 0))\n",
        "\n",
        "    def test_ShouldExtractDiagonale(self):\n",
        "        \"\"\"Extract the diagonal of the matrix.\n",
        "            error : a and d are inverted\n",
        "        \"\"\"\n",
        "        self.assertEqual(self.unitary_matrix.extract_diagonale(), Matrix2D(1, 0, 0, 1))\n",
        "        \n",
        "        self.assertEqual(self.real_matrix.extract_diagonale(), Matrix2D(1, 0, 0, 4))\n",
        "\n",
        "    def test_shouldReturnTrueIfSymmetric(self):\n",
        "        \"\"\"Test if the matrix is symmetric.\n",
        "            error : self._a and d can be different\n",
        "        \"\"\"\n",
        "        self.assertFalse(self.real_matrix.is_symmetric())\n",
        "        self.assertTrue(self.zero_matrix.is_symmetric())\n",
        "        \n",
        "        self.assertTrue(self.symmetric_matrix.is_symmetric())\n",
        "\n",
        "    def test_shouldComputeFrobeniusNorm(self):\n",
        "        \"\"\"Test the Frobenius norm of the matrix.\"\"\"\n",
        "        self.assertAlmostEqual(self.real_matrix.frobenius_norm(), 5.477, 2)\n",
        "        self.assertEqual(self.zero_matrix.frobenius_norm(), 0)\n",
        "\n",
        "    def test_shouldTransposeMatrix(self):\n",
        "        \"\"\"Test the transpose of the matrix.\n",
        "        \"\"\"\n",
        "        self.assertEqual(self.real_matrix.transpose(), Matrix2D(1, 3, 2, 4))\n",
        "        self.assertEqual(self.zero_matrix.transpose(), Matrix2D(0, 0, 0, 0))\n",
        "        self.assertEqual(self.unitary_matrix.transpose(), Matrix2D(1, 0, 0, 1))\n",
        "\n",
        "    def test_shouldReturnTrueIfOrthogonal(self):\n",
        "        \"\"\"Test if the matrix is orthogonal.\n",
        "            error : self.inverse() has a division by zero\n",
        "        \"\"\"\n",
        "        self.assertFalse(self.real_matrix.is_unitary())\n",
        "        self.assertFalse(self.zero_matrix.is_unitary())\n",
        "\n",
        "    def test_shouldReturnTrueIfUnitary(self):\n",
        "        \"\"\"Test if the matrix is unitary.\n",
        "            error : does not work if matrix is complex\n",
        "        \"\"\"\n",
        "        self.assertTrue(self.unitary_matrix.is_unitary())\n",
        "        self.assertTrue(self.complex_unitary_matrix.is_unitary())\n",
        "\n",
        "    def testEigenvalues(self):\n",
        "        \"\"\"Test the eigenvalues of the matrix.\n",
        "        \"\"\"\n",
        "        self.assertTrue(True)\n",
        "\n",
        "    def testMatmul(self):\n",
        "        \"\"\"Test the product of the matrix and the other matrix.\"\"\"\n",
        "        self.assertEqual(self.real_matrix @ self.real_matrix, Matrix2D(7, 10, 15, 22))\n",
        "        self.assertEqual(self.real_matrix @ self.zero_matrix, Matrix2D(0, 0, 0, 0))\n",
        "        self.assertEqual(self.real_matrix @ self.unitary_matrix, Matrix2D(1, 2, 3, 4))\n",
        "\n",
        "    def testMul(self):\n",
        "        \"\"\"Test the product of the matrix and the other matrix.\n",
        "            error : __rmul__ is missing\n",
        "        \"\"\"\n",
        "        self.assertEqual(self.real_matrix * self.real_matrix, Matrix2D(1, 4, 9, 16))\n",
        "        self.assertEqual(self.real_matrix * 2, Matrix2D(2, 4, 6, 8))\n",
        "        self.assertEqual(self.real_matrix * 0, Matrix2D(0, 0, 0, 0))\n",
        "        self.assertEqual(0 * self.real_matrix, Matrix2D(0, 0, 0, 0))\n",
        "\n",
        "unittest.main(argv=['first-arg-is-ignored'], exit=False)"
      ],
      "metadata": {
        "colab": {
          "base_uri": "https://localhost:8080/"
        },
        "id": "kvLzW8uAZeD2",
        "outputId": "154bf3c3-53a6-463f-a1b2-59e0d7fb76b9"
      },
      "execution_count": null,
      "outputs": [
        {
          "output_type": "stream",
          "name": "stderr",
          "text": [
            "....EF..EEFF..........\n",
            "======================================================================\n",
            "ERROR: testMul (__main__.TestMatrix2D)\n",
            "Test the product of the matrix and the other matrix.\n",
            "----------------------------------------------------------------------\n",
            "Traceback (most recent call last):\n",
            "  File \"<ipython-input-12-67dd5bb9e823>\", line 101, in testMul\n",
            "    self.assertEqual(0 * self.real_matrix, Matrix2D(0, 0, 0, 0))\n",
            "TypeError: unsupported operand type(s) for *: 'int' and 'Matrix2D'\n",
            "\n",
            "======================================================================\n",
            "ERROR: test_shouldReturnInverseOfMatrix (__main__.TestMatrix2D)\n",
            "Test the inverse of the matrix.\n",
            "----------------------------------------------------------------------\n",
            "Traceback (most recent call last):\n",
            "  File \"<ipython-input-12-67dd5bb9e823>\", line 38, in test_shouldReturnInverseOfMatrix\n",
            "    self.assertEqual(self.zero_matrix.inverse(), Matrix2D(0, 0, 0, 0))\n",
            "  File \"<ipython-input-10-c888e0495add>\", line 30, in inverse\n",
            "    inverse = Matrix2D(self._d / self.determinant(), -self._b / self.determinant(), -self._c / self.determinant(), self._a / self.determinant())\n",
            "ZeroDivisionError: division by zero\n",
            "\n",
            "======================================================================\n",
            "ERROR: test_shouldReturnTrueIfOrthogonal (__main__.TestMatrix2D)\n",
            "Test if the matrix is orthogonal.\n",
            "----------------------------------------------------------------------\n",
            "Traceback (most recent call last):\n",
            "  File \"<ipython-input-12-67dd5bb9e823>\", line 74, in test_shouldReturnTrueIfOrthogonal\n",
            "    self.assertFalse(self.zero_matrix.is_unitary())\n",
            "  File \"<ipython-input-10-c888e0495add>\", line 61, in is_unitary\n",
            "    return self.transpose() == self.inverse()\n",
            "  File \"<ipython-input-10-c888e0495add>\", line 30, in inverse\n",
            "    inverse = Matrix2D(self._d / self.determinant(), -self._b / self.determinant(), -self._c / self.determinant(), self._a / self.determinant())\n",
            "ZeroDivisionError: division by zero\n",
            "\n",
            "======================================================================\n",
            "FAIL: test_ShouldExtractDiagonale (__main__.TestMatrix2D)\n",
            "Extract the diagonal of the matrix.\n",
            "----------------------------------------------------------------------\n",
            "Traceback (most recent call last):\n",
            "  File \"<ipython-input-12-67dd5bb9e823>\", line 46, in test_ShouldExtractDiagonale\n",
            "    self.assertEqual(self.real_matrix.extract_diagonale(), Matrix2D(1, 0, 0, 4))\n",
            "AssertionError: <__main__.Matrix2D object at 0x7f3a93b508e0> != <__main__.Matrix2D object at 0x7f3a93b5c070>\n",
            "\n",
            "======================================================================\n",
            "FAIL: test_shouldReturnTrueIfSymmetric (__main__.TestMatrix2D)\n",
            "Test if the matrix is symmetric.\n",
            "----------------------------------------------------------------------\n",
            "Traceback (most recent call last):\n",
            "  File \"<ipython-input-12-67dd5bb9e823>\", line 55, in test_shouldReturnTrueIfSymmetric\n",
            "    self.assertTrue(self.symmetric_matrix.is_symmetric())\n",
            "AssertionError: False is not true\n",
            "\n",
            "======================================================================\n",
            "FAIL: test_shouldReturnTrueIfUnitary (__main__.TestMatrix2D)\n",
            "Test if the matrix is unitary.\n",
            "----------------------------------------------------------------------\n",
            "Traceback (most recent call last):\n",
            "  File \"<ipython-input-12-67dd5bb9e823>\", line 81, in test_shouldReturnTrueIfUnitary\n",
            "    self.assertTrue(self.complex_unitary_matrix.is_unitary())\n",
            "AssertionError: False is not true\n",
            "\n",
            "----------------------------------------------------------------------\n",
            "Ran 22 tests in 0.045s\n",
            "\n",
            "FAILED (failures=3, errors=3)\n"
          ]
        },
        {
          "output_type": "execute_result",
          "data": {
            "text/plain": [
              "<unittest.main.TestProgram at 0x7f3a93b4c730>"
            ]
          },
          "metadata": {},
          "execution_count": 12
        }
      ]
    },
    {
      "cell_type": "markdown",
      "source": [
        "Les erreurs sont :\n",
        "\n",
        "\n",
        "\n",
        "*   **Inverse** : division par zéro losrque le déterminant est nulle\n",
        "*   **Extract diagonale** : a et d sont inversés\n",
        "*   **is_symetric** : a et d peuvent être différents\n",
        "*   **is_unitary** : Division par zéro (self.inverse()) et ne fonctionne pas si la matrice est complexe\n",
        "*   **matmul** : rmul n'est pas défini donc 1 * Matrix2D != Matrix2D * 1\n",
        "\n",
        "Total erreurs : 6\n",
        "\n"
      ],
      "metadata": {
        "id": "b4_fVZ8revuJ"
      }
    }
  ]
}