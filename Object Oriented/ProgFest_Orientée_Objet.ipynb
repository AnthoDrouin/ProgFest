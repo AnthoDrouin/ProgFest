{
  "nbformat": 4,
  "nbformat_minor": 0,
  "metadata": {
    "colab": {
      "provenance": []
    },
    "kernelspec": {
      "name": "python3",
      "display_name": "Python 3"
    },
    "language_info": {
      "name": "python"
    }
  },
  "cells": [
    {
      "cell_type": "markdown",
      "source": [
        "Dans ce notebook, l'objectif est d'introduire la programmation orientée objet.  Après la présentation, les classes et leur fonctionnement ne devraient plus avoir de secret pour vous! En fait, la maîtrise des classes est essentielle pour pouvoir entamer des projets d'envergure en Python notamment en intelligence artificiel, en simulation ou en calcul Monte-Carlo pour n'en nommer que quelque un.\n",
        "\n",
        "\n",
        "Les classes permettent de créer des \"objets\" qui possèdent des attributs et qui ont des méthodes (fonctions) propres à elles tout comme des objets physiques. Il est possible de comprendre l'essence d'une classe en effectuant une analogie avec un objet de la vie de tous les jours. Par exemple, un livre est un objet qui possède des attributs : son titre, son nombre de pages, son auteur, etc. Une méthode de cette classe pourrait par exemple permettre à l'utilisateur de donner une note au livre. Ainsi, en interagissant avec l'objet, il contribue à modifier les attributs de celui-ci.\n",
        "\n",
        "\n",
        "À chaque fois que vous utiliser un integer (nombre entier), un float (nombre à virgule flottante) un booléen ou une , vous manipuler des classes! Par exemple, dans la classe booléen, il a fallu définir la multiplication :\n",
        "\n",
        "\n",
        "```\n",
        "True * True = 1\n",
        "True * False = 0\n",
        "```\n",
        "\n",
        "\n",
        "Ainsi, on vient programmer les *propriétés* de l'objet booléen!\n",
        "\n",
        "\n",
        "La programmation orientée objet est utile lorsque l'on désire faciliter la lecture et la compréhension du code et que l'on souhaite réutiliser une même section de code à plusieurs reprises. De plus, lorsque nous travaillons avec des objets qui peuvent évoluer au cours de la lecture du code, il va de soi que la programmation orientée objet est l'avenue à adopter.\n",
        "\n",
        "\n",
        "### **Architecture d'une classe**\n",
        "\n",
        "\n",
        "Une classe est initialisée avec l'opérateur \n",
        "\n",
        "\n",
        "```\n",
        "class LeNomDeMaClasse\n",
        "```\n",
        "\n",
        "\n",
        "de Python. Lorsque cet opérateur est appelé, l'interpréteur en comprend que l'utilisateur souhaite créer un objet. Ensuite, il est impératif de définir un constructeur, soit une fonction au sein de la classe qui initialise des variables utiles à la classe.\n",
        "\n",
        "\n",
        "Par exemple, il est possible de continuer l'analogie mentionnée plus haut en créant une classe qui agit comme un livre."
      ],
      "metadata": {
        "id": "hGKLjU9l87SZ"
      }
    },
    {
      "cell_type": "code",
      "source": [
        "class Livre:\n",
        "\n",
        "    def __init__(self, nombre_page):\n",
        "        # C'est le constructeur. On définit ici les variables\n",
        "        # qui seront utiles partout dans le code. self.nombre_page est utilisé dans\n",
        "        # plusieurs méthodes, on l'initialise donc dans le constructeur.\n",
        "        # self.signet est une variable qui décrit la page à laquelle le lecteur est rendu.\n",
        "        # Cette variable est donc initialisée à zéro\n",
        "\n",
        "        self.nombre_page = nombre_page\n",
        "        self.signet = 0\n",
        "\n",
        "    def tourner_la_page(self):\n",
        "        # L'intérêt des classes est ici : l'objet évolue! En appelant cette méthode,\n",
        "        # on vient modifier les paramètres de l'objet livre!\n",
        "        self.signet += 1\n",
        "        if self.signet > self.nombre_page:\n",
        "            self.signet = 0\n",
        "\n",
        "    def recommencer_le_livre(self):\n",
        "        # On constate que les méthodes ne sont pas obligé de retourner quelques choses...\n",
        "        self.signet = 0\n",
        "\n",
        "    def pourcentage_de_lecture(self, titre):\n",
        "        # titre est une variable locale. La valeur de cette variable est supprimé\n",
        "        # après l'appel de cette fonction. Les fonctions self demeurent.\n",
        "        return f\"Le livre {titre} est complété à {self.signet/self.nombre_page * 100}%\""
      ],
      "metadata": {
        "id": "lUrK1USpBANx"
      },
      "execution_count": null,
      "outputs": []
    },
    {
      "cell_type": "markdown",
      "source": [
        "Il est maintenant possible d'appeler cette classe et l'essayer!"
      ],
      "metadata": {
        "id": "9a43Cu29CeY-"
      }
    },
    {
      "cell_type": "code",
      "source": [
        "MonLivre = Livre(nombre_page = 300)  # Appel la classe __init__\n",
        "print(f\"Je suis à la page {MonLivre.signet}\")  # On extrait directement la variable de la classe à ce moment\n",
        "\n",
        "for _ in range(26):\n",
        "    MonLivre.tourner_la_page()\n",
        "\n",
        "print(f\"Je suis maintenant rendu à la page {MonLivre.signet}\")\n",
        "\n",
        "MonLivre.recommencer_le_livre()\n",
        "print(f\"On recommence à la page {MonLivre.signet}\")"
      ],
      "metadata": {
        "colab": {
          "base_uri": "https://localhost:8080/"
        },
        "id": "KJrVQgRaEn33",
        "outputId": "343ee79e-7735-4407-ffd2-0e6ccdf94b30"
      },
      "execution_count": null,
      "outputs": [
        {
          "output_type": "stream",
          "name": "stdout",
          "text": [
            "Je suis à la page 0\n",
            "Je suis maintenant rendu à la page 26\n",
            "On recommence à la page 0\n"
          ]
        }
      ]
    },
    {
      "cell_type": "markdown",
      "source": [
        "C'est bien beau comme exemple, mais il est peu probable que vous ayez besoin de créer une classe \n",
        "\n",
        "```\n",
        "Livre\n",
        "```\n",
        "dans votre carrière. Ainsi, nous allons maintenant considérer un cas plus concret et dont vous pourriez réellement avoir besoin. Nous allons créer une classe qui définit des vecteurs et leurs propriétés :\n",
        "\n",
        "# **Exercice dirigé \\# 1 : Les vecteurs**"
      ],
      "metadata": {
        "id": "LrzwzrtPGtdK"
      }
    },
    {
      "cell_type": "code",
      "source": [
        "# INSÉRER LA CLASSE ICI\n",
        "\n",
        "class Vector3D:\n",
        "    \n",
        "    def __init__():\n",
        "        pass"
      ],
      "metadata": {
        "id": "HIFlzq1YIPeb"
      },
      "execution_count": null,
      "outputs": []
    },
    {
      "cell_type": "markdown",
      "source": [
        "Roulez la cellule qui suit pour essayer votre code (ajouter des tests!)"
      ],
      "metadata": {
        "id": "kE9LLgL7S7jc"
      }
    },
    {
      "cell_type": "code",
      "source": [
        "v1 = Vector3D(1, 1, 0)\n",
        "v2 = Vector3D(-1, 1, 0)\n",
        "print(v1 + v2)\n",
        "print(v1 * 2)\n",
        "print(2 * v2)\n",
        "print(v1.is_orthogonal(v2))"
      ],
      "metadata": {
        "id": "0P_j-LxtSlqC"
      },
      "execution_count": null,
      "outputs": []
    },
    {
      "cell_type": "markdown",
      "source": [
        "### Partie 2 : Héritage des classes"
      ],
      "metadata": {
        "id": "TRz-E9joJqq3"
      }
    },
    {
      "cell_type": "markdown",
      "source": [
        "Parfois, il arrive qu'une seule classe ne soit suffisante pour effectuer la tâche désirée. Par exemple, une classe trop générale ne permet pas de résoudre des problèmes très spécifiques à une situation alors qu'une classe trop spécifique ne permet pas de résoudre beaucoup de problèmes. C'est dans ces moments que **l'héritage** des classes entre en jeu!\n",
        "\n",
        "\n",
        "\n",
        "Revenons à notre exemple du livre! Présentement, le code fonctionne pour tout type de livre. Ainsi, le fait qu'il soit général ne lui permet pas d'effectuer des tâches très spécifiques. Imaginons qu'on s'intéresse au livre **Où est Charlie ?**, on aimerait bien avoir une méthode qui nous indique à quel endroit se trouve Charlie ? Évidemment, la position de Charlie change à chaque page! On peut donc créer une classe qui hérite de la classe Livre. La classe Livre est dite *classe mère* alors que la nouvelle classe Charlie est dite *classe fille*. L'héritage peut rapidement devenir un concept complexe, nous allons donc rester à la base:"
      ],
      "metadata": {
        "id": "nYdUs7RKJwFk"
      }
    },
    {
      "cell_type": "code",
      "source": [
        "import random\n",
        "class OuEstCharlie(Livre):\n",
        "\n",
        "    def __init__(self, nombre_page):\n",
        "        # La fonction super() vient appeler une fonction de la classe mère. Par\n",
        "        # défaut, Python va appeler la fonction de la classe fille à moins d'avoir\n",
        "        # placer super(). Ici, on initialise la classe mère avant la classe fille.\n",
        "        super().__init__(nombre_page)\n",
        "        self.position_charlie = []\n",
        "        self._placer_charlie()\n",
        "\n",
        "    def _placer_charlie(self):\n",
        "        position_horizontale = [\"gauche\", \"milieu\", \"droite\"]\n",
        "        position_verticale = [\"haut\", \"milieu\", \"bas\"]\n",
        "        for _ in range(self.nombre_page):\n",
        "            random_horizontale = random.randint(0, 2)\n",
        "            random_verticale = random.randint(0, 2)\n",
        "\n",
        "            self.position_charlie.append((position_verticale[random_verticale],\n",
        "                                        position_horizontale[random_horizontale]))\n",
        "      \n",
        "    def ou_est_charlie(self):\n",
        "        return f\"Charlie est à la position {self.position_charlie[self.signet]} à cette page\"\n",
        "\n",
        "    def tentative(self, essai: list):\n",
        "        if self.position_charlie[self.signet] == essai:\n",
        "            return \"Félicitation\"\n",
        "        else:\n",
        "            return \"C'est raté\"\n",
        "\n",
        "    def tourner_la_page(self):\n",
        "        super(OuEstCharlie, self).tourner_la_page()\n",
        "        print(\"Changement de page! Charlie se déplace\")\n"
      ],
      "metadata": {
        "id": "K8_7XGCbLym5"
      },
      "execution_count": null,
      "outputs": []
    },
    {
      "cell_type": "markdown",
      "source": [
        "On peut maintenant s'amuser avec notre nouvelle classe"
      ],
      "metadata": {
        "id": "ZVi_2Ph-TfNu"
      }
    },
    {
      "cell_type": "code",
      "source": [
        "MonLivre = OuEstCharlie(nombre_page = 30)\n",
        "\n",
        "print(MonLivre.ou_est_charlie())  # Fonctione de la classe fille!\n",
        "\n",
        "for _ in range(5):\n",
        "    MonLivre.tourner_la_page()  # Fonction de la classe mère!\n",
        "\n",
        "print(MonLivre.ou_est_charlie())\n",
        "\n",
        "print(MonLivre.tentative([\"haut\", \"milieu\"]))  # Vous allez pas l'avoir souvent..."
      ],
      "metadata": {
        "colab": {
          "base_uri": "https://localhost:8080/"
        },
        "id": "w6aazOQnNI-y",
        "outputId": "338be57c-aaf1-4df7-ba7b-ee43e2cdd029"
      },
      "execution_count": null,
      "outputs": [
        {
          "output_type": "stream",
          "name": "stdout",
          "text": [
            "Charlie est à la position ('bas', 'droite') à cette page\n",
            "Changement de page! Charlie se déplace\n",
            "Changement de page! Charlie se déplace\n",
            "Changement de page! Charlie se déplace\n",
            "Changement de page! Charlie se déplace\n",
            "Changement de page! Charlie se déplace\n",
            "Charlie est à la position ('haut', 'gauche') à cette page\n",
            "C'est raté\n"
          ]
        }
      ]
    },
    {
      "cell_type": "markdown",
      "source": [
        "Encore une fois, l'exemple du livre n'est peut-être la plus concrète. Nous allons donc utiliser un exemple plus concret et ... scientifique.\n",
        "\n",
        "# **Exercice dirigé \\# 2 : Les polygones**"
      ],
      "metadata": {
        "id": "0rcwSBaRdnyE"
      }
    },
    {
      "cell_type": "code",
      "source": [
        "class Parallelogramme:\n",
        "\n",
        "    def __init__():\n",
        "        pass"
      ],
      "metadata": {
        "id": "fht0R7yjeDFt"
      },
      "execution_count": null,
      "outputs": []
    },
    {
      "cell_type": "markdown",
      "source": [
        "## *Solutions aux exercices*\n",
        "\n",
        "### Solutions partielles à l'exercice \\# 1\n",
        "\n",
        "\n",
        "\n",
        "```\n",
        "class Vector3D:\n",
        "\n",
        "    def __init__(self, x: str, y: str, z: str):\n",
        "        self.x = x\n",
        "        self.y = y\n",
        "        self.z = z\n",
        "\n",
        "    def _norm(self):\n",
        "        \"\"\"Return the norm of the vector.\"\"\"\n",
        "        return (self.x**2 + self.y**2 + self.z**2)**0.5\n",
        "\n",
        "    def normalized(self):\n",
        "        \"\"\"Return a normalized version of the vector.\"\"\"\n",
        "        norm = self.norm()\n",
        "        self.x = self.x / norm\n",
        "        self.y = self.y / norm\n",
        "        self.z = self.z / norm\n",
        "    \n",
        "\n",
        "    def is_orthogonal_with(self, other):\n",
        "        \"\"\"Return True if the vector is orthogonal to the other vector.\"\"\"\n",
        "        return self.x * other.x + self.y * other.y + self.z * other.z == 0\n",
        "\n",
        "    @staticmethod\n",
        "    def zeros():\n",
        "        \"\"\"Return a vector of zeros.\"\"\"\n",
        "        return Vector3D(0, 0, 0)\n",
        "\n",
        "    def __add__(self, other):\n",
        "        \"\"\"Return the sum of the vector and the other vector.\"\"\"\n",
        "        return Vector3D(self.x + other.x, self.y + other.y, self.z + other.z)\n",
        "    \n",
        "    def __sub__(self, other):\n",
        "        \"\"\"Return the difference of the vector and the other vector.\"\"\"\n",
        "        return Vector3D(self.x - other.x, self.y - other.y, self.z - other.z)\n",
        "```\n",
        "\n",
        "### Solution complète à l'exercice \\# 1\n",
        "\n",
        "\n",
        "\n",
        "```\n",
        "import math\n",
        "from typing import Union\n",
        "\n",
        "class Vector3D:\n",
        "\n",
        "    def __init__(self, x: float, y: float, z: float):\n",
        "        self.x = x\n",
        "        self.y = y\n",
        "        self.z = z\n",
        "\n",
        "    def norm(self):\n",
        "        \"\"\"Return the norm of the vector.\"\"\"\n",
        "        return (self.x ** 2 + self.y ** 2 + self.z ** 2) ** 0.5\n",
        "\n",
        "    def normalized(self):\n",
        "        \"\"\"Return a normalized version of the vector.\"\"\"\n",
        "        norm = self.norm()\n",
        "        self.x = self.x / norm\n",
        "        self.y = self.y / norm\n",
        "        self.z = self.z / norm\n",
        "\n",
        "    def is_orthogonal_with(self, other: \"Vector3D\", error: float = 1e-5):\n",
        "        \"\"\"Return True if the vector is orthogonal to the other vector.\"\"\"\n",
        "        return abs(self.x * other.x + self.y * other.y + self.z * other.z) <= error\n",
        "\n",
        "    @staticmethod\n",
        "    def ones():\n",
        "        \"\"\"Return a vector of ones.\"\"\"\n",
        "        return Vector3D(1, 1, 1)\n",
        "\n",
        "    @staticmethod\n",
        "    def zeros():\n",
        "        \"\"\"Return a vector of zeros.\"\"\"\n",
        "        return Vector3D(0, 0, 0)\n",
        "\n",
        "    def __str__(self):\n",
        "        \"\"\"Return a string representation of the vector.\"\"\"\n",
        "        return f\"({self.x}, {self.y}, {self.z})\"\n",
        "\n",
        "    def __add__(self, other: \"Vector3D\"):\n",
        "        \"\"\"Return the sum of the vector and the other vector.\"\"\"\n",
        "        return Vector3D(self.x + other.x, self.y + other.y, self.z + other.z)\n",
        "\n",
        "    def __sub__(self, other: \"Vector3D\"):\n",
        "        \"\"\"Return the difference of the vector and the other vector.\"\"\"\n",
        "        return Vector3D(self.x - other.x, self.y - other.y, self.z - other.z)\n",
        "\n",
        "    def __abs__(self):\n",
        "        \"\"\"Return the norm of the vector.\"\"\"\n",
        "        return self.norm()\n",
        "\n",
        "    def __mul__(self, other: Union[\"Vector3D\", float]):\n",
        "        \"\"\"Return the dot product of the vector and the other vector.\"\"\"\n",
        "        if isinstance(other, Vector3D):\n",
        "            return self.x * other.x + self.y * other.y + self.z * other.z\n",
        "        else:\n",
        "            return Vector3D(self.x * other, self.y * other, self.z * other)\n",
        "\n",
        "    def __rmul__(self, other:Union[\"Vector3D\", float]):\n",
        "        return self * other\n",
        "\n",
        "    def __matmul__(self, other: \"Vector3D\"):\n",
        "        \"\"\"Return the cross product of the vector and the other vector.\"\"\"\n",
        "        return Vector3D(\n",
        "            self.y * other.z - self.z * other.y,\n",
        "            self.z * other.x - self.x * other.z,\n",
        "            self.x * other.y - self.y * other.x,\n",
        "        )\n",
        "\n",
        "    def angle(self, other: \"Vector3D\"):\n",
        "        \"\"\"Return the angle between the vector and the other vector.\"\"\"\n",
        "        return math.acos(self * other / (abs(self) * abs(other))) * 180 / math.pi\n",
        "\n",
        "    def is_parallel_to(self, other: \"Vector3D\", error: float = 1e-5):\n",
        "        \"\"\"Return True if the vector is parallel to the other vector.\"\"\"\n",
        "        return (abs(self.angle(other)) <= 0) or (180 - error <= abs(self.angle(other)) <= 180 + error)\n",
        "\n",
        "    def is_unit(self, error: float = 1e-5):\n",
        "        norm = self.norm()\n",
        "        return 1 - error <= norm <= 1 + error\n",
        "\n",
        "```\n",
        "\n",
        "### Solution complète à l'exercice \\# 2\n",
        "\n",
        "\n",
        "\n",
        "```\n",
        "from scipy.special import ellipe\n",
        "from scipy.constants import pi\n",
        "\n",
        "class Parallelogramme:\n",
        "\n",
        "    def __init__(self, base: float, hauteur: float, angle: float):\n",
        "        self._base = base\n",
        "        self._hauteur = hauteur\n",
        "        self._angle = angle\n",
        "\n",
        "    def aire(self):\n",
        "        return self._hauteur * self._base\n",
        "\n",
        "    def perimetre(self):\n",
        "        return 2 * (self._hauteur + self._base)\n",
        "\n",
        "    def __str__(self):\n",
        "        return f\"Je suis un parallélogramme de base {self._base}, de hauteur {self._hauteur} et d'angle {self._angle}.\"\n",
        "\n",
        "\n",
        "class Rectangle(Parallelogramme):\n",
        "\n",
        "    def __init__(self, base: float, hauteur: float):\n",
        "        super(Rectangle, self).__init__(base, hauteur, 90)\n",
        "\n",
        "    def __str__(self):\n",
        "        return f\"Je suis un rectangle de base {self._base} et de hauteur {self._hauteur}.\"\n",
        "\n",
        "\n",
        "class Carre(Rectangle):\n",
        "\n",
        "    def __init__(self, cote: float):\n",
        "        super(Carre, self).__init__(cote, cote)\n",
        "\n",
        "    def __str__(self):\n",
        "        return f\"Je suis un carré de côté {self._base}.\"\n",
        "\n",
        "\n",
        "class Ellipse:\n",
        "\n",
        "    def __init__(self, a: float, b: float):\n",
        "        if a < b:\n",
        "            raise ValueError(\"Le demi grand axe `a` doit être supérieur au demi petit axe `b`.\")\n",
        "        self._a = a\n",
        "        self._b = b\n",
        "\n",
        "    def eccentricite(self):\n",
        "        return (1 - (self._b / self._a) ** 2) ** 0.5\n",
        "\n",
        "    def aire(self):\n",
        "        return pi * self._a * self._b\n",
        "\n",
        "    def perimetre(self):\n",
        "        return ellipe(self.eccentricite() ** 2) * self._a * 4\n",
        "\n",
        "    def __str__(self):\n",
        "        return f\"Je suis une ellipse de demi grand axe {self._a} et de demi petit axe {self._b}.\"\n",
        "\n",
        "\n",
        "class Cercle(Ellipse):\n",
        "\n",
        "    def __init__(self, rayon: float):\n",
        "        super(Cercle, self).__init__(rayon, rayon)\n",
        "\n",
        "    def eccentricite(self):\n",
        "        return 0\n",
        "\n",
        "    def perimetre(self):\n",
        "        return 2 * pi * self._a\n",
        "\n",
        "    def diametre(self):\n",
        "        return self._a * 2\n",
        "```\n",
        "\n"
      ],
      "metadata": {
        "id": "HLVaupBPIWgq"
      }
    }
  ]
}